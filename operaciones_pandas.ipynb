{
 "nbformat": 4,
 "nbformat_minor": 0,
 "metadata": {
  "colab": {
   "name": "operaciones_pandas.ipynb",
   "provenance": [],
   "collapsed_sections": []
  },
  "kernelspec": {
   "name": "python3",
   "display_name": "Python 3"
  },
  "language_info": {
   "name": "python"
  }
 },
 "cells": [
  {
   "cell_type": "code",
   "execution_count": 34,
   "metadata": {
    "id": "ZiAzWQz2PCB8"
   },
   "outputs": [],
   "source": [
    "# importar libreria pandas\n",
    "import pandas as pd"
   ]
  },
  {
   "cell_type": "code",
   "source": [
    "dict_data = {'Name': [\"John\", \"Anna\", \"Lunna\", \"Christian\"], \n",
    "             'Location': [\"Lima\", \"Chiclayo\", \"Arequipa\", \"Lambayeque\"]}\n",
    "\n",
    "df = pd.DataFrame(data=dict_data)\n"
   ],
   "metadata": {
    "id": "LhXDaifeTbbZ"
   },
   "execution_count": 35,
   "outputs": []
  },
  {
   "cell_type": "code",
   "source": [
    "# Creamos dataframe con un diccionario\n",
    "df"
   ],
   "metadata": {
    "colab": {
     "base_uri": "https://localhost:8080/",
     "height": 175
    },
    "id": "D9HOngliUDPc",
    "outputId": "991d66de-9887-4e38-cc2b-bbb50c34bcd6"
   },
   "execution_count": 36,
   "outputs": [
    {
     "data": {
      "text/plain": "        Name    Location\n0       John        Lima\n1       Anna    Chiclayo\n2      Lunna    Arequipa\n3  Christian  Lambayeque",
      "text/html": "<div>\n<style scoped>\n    .dataframe tbody tr th:only-of-type {\n        vertical-align: middle;\n    }\n\n    .dataframe tbody tr th {\n        vertical-align: top;\n    }\n\n    .dataframe thead th {\n        text-align: right;\n    }\n</style>\n<table border=\"1\" class=\"dataframe\">\n  <thead>\n    <tr style=\"text-align: right;\">\n      <th></th>\n      <th>Name</th>\n      <th>Location</th>\n    </tr>\n  </thead>\n  <tbody>\n    <tr>\n      <th>0</th>\n      <td>John</td>\n      <td>Lima</td>\n    </tr>\n    <tr>\n      <th>1</th>\n      <td>Anna</td>\n      <td>Chiclayo</td>\n    </tr>\n    <tr>\n      <th>2</th>\n      <td>Lunna</td>\n      <td>Arequipa</td>\n    </tr>\n    <tr>\n      <th>3</th>\n      <td>Christian</td>\n      <td>Lambayeque</td>\n    </tr>\n  </tbody>\n</table>\n</div>"
     },
     "execution_count": 36,
     "metadata": {},
     "output_type": "execute_result"
    }
   ]
  },
  {
   "cell_type": "code",
   "source": [
    "# Tipo de datos\n",
    "df.dtypes"
   ],
   "metadata": {
    "colab": {
     "base_uri": "https://localhost:8080/"
    },
    "id": "oTYD-Ri-X-60",
    "outputId": "afd8f854-30f1-4c89-f76b-295218446ae2"
   },
   "execution_count": 37,
   "outputs": [
    {
     "data": {
      "text/plain": "Name        object\nLocation    object\ndtype: object"
     },
     "execution_count": 37,
     "metadata": {},
     "output_type": "execute_result"
    }
   ]
  },
  {
   "cell_type": "code",
   "source": [
    "# Agreagamos una columna Age\n",
    "dict_data = {\n",
    "    'Name': [\"John\", \"Anna\", \"Lunna\", \"Christian\"], \n",
    "    'Location': [\"Lima\", \"Chiclayo\", \"Arequipa\", \"Lambayeque\"],\n",
    "    \"Age\": [20, 30, 18, 25]\n",
    "             \n",
    "             }\n",
    "df = pd.DataFrame(data=dict_data)\n",
    "\n",
    "df"
   ],
   "metadata": {
    "colab": {
     "base_uri": "https://localhost:8080/",
     "height": 175
    },
    "id": "jM-A30JnYJ5_",
    "outputId": "bf2fbc9d-9ba3-4236-cf4d-4d4595af419a"
   },
   "execution_count": 38,
   "outputs": [
    {
     "data": {
      "text/plain": "        Name    Location  Age\n0       John        Lima   20\n1       Anna    Chiclayo   30\n2      Lunna    Arequipa   18\n3  Christian  Lambayeque   25",
      "text/html": "<div>\n<style scoped>\n    .dataframe tbody tr th:only-of-type {\n        vertical-align: middle;\n    }\n\n    .dataframe tbody tr th {\n        vertical-align: top;\n    }\n\n    .dataframe thead th {\n        text-align: right;\n    }\n</style>\n<table border=\"1\" class=\"dataframe\">\n  <thead>\n    <tr style=\"text-align: right;\">\n      <th></th>\n      <th>Name</th>\n      <th>Location</th>\n      <th>Age</th>\n    </tr>\n  </thead>\n  <tbody>\n    <tr>\n      <th>0</th>\n      <td>John</td>\n      <td>Lima</td>\n      <td>20</td>\n    </tr>\n    <tr>\n      <th>1</th>\n      <td>Anna</td>\n      <td>Chiclayo</td>\n      <td>30</td>\n    </tr>\n    <tr>\n      <th>2</th>\n      <td>Lunna</td>\n      <td>Arequipa</td>\n      <td>18</td>\n    </tr>\n    <tr>\n      <th>3</th>\n      <td>Christian</td>\n      <td>Lambayeque</td>\n      <td>25</td>\n    </tr>\n  </tbody>\n</table>\n</div>"
     },
     "execution_count": 38,
     "metadata": {},
     "output_type": "execute_result"
    }
   ]
  },
  {
   "cell_type": "code",
   "source": [
    "df.dtypes"
   ],
   "metadata": {
    "colab": {
     "base_uri": "https://localhost:8080/"
    },
    "id": "KZQyVaMFYcaG",
    "outputId": "bf36d739-ed56-413c-ed96-a4ade6f858cf"
   },
   "execution_count": 39,
   "outputs": [
    {
     "data": {
      "text/plain": "Name        object\nLocation    object\nAge          int64\ndtype: object"
     },
     "execution_count": 39,
     "metadata": {},
     "output_type": "execute_result"
    }
   ]
  },
  {
   "cell_type": "code",
   "source": [
    "df.head(2)"
   ],
   "metadata": {
    "colab": {
     "base_uri": "https://localhost:8080/",
     "height": 112
    },
    "id": "FLWJHMvNZaG0",
    "outputId": "54913a43-99cd-4004-e564-abdbe7736af8"
   },
   "execution_count": 40,
   "outputs": [
    {
     "data": {
      "text/plain": "   Name  Location  Age\n0  John      Lima   20\n1  Anna  Chiclayo   30",
      "text/html": "<div>\n<style scoped>\n    .dataframe tbody tr th:only-of-type {\n        vertical-align: middle;\n    }\n\n    .dataframe tbody tr th {\n        vertical-align: top;\n    }\n\n    .dataframe thead th {\n        text-align: right;\n    }\n</style>\n<table border=\"1\" class=\"dataframe\">\n  <thead>\n    <tr style=\"text-align: right;\">\n      <th></th>\n      <th>Name</th>\n      <th>Location</th>\n      <th>Age</th>\n    </tr>\n  </thead>\n  <tbody>\n    <tr>\n      <th>0</th>\n      <td>John</td>\n      <td>Lima</td>\n      <td>20</td>\n    </tr>\n    <tr>\n      <th>1</th>\n      <td>Anna</td>\n      <td>Chiclayo</td>\n      <td>30</td>\n    </tr>\n  </tbody>\n</table>\n</div>"
     },
     "execution_count": 40,
     "metadata": {},
     "output_type": "execute_result"
    }
   ]
  },
  {
   "cell_type": "code",
   "source": [
    "# Ultimo n datos\n",
    "df.tail(3)"
   ],
   "metadata": {
    "colab": {
     "base_uri": "https://localhost:8080/",
     "height": 143
    },
    "id": "S0vbonXmarMj",
    "outputId": "5fd2d6e1-6ca6-4d3f-99a8-05123a3849fe"
   },
   "execution_count": 41,
   "outputs": [
    {
     "data": {
      "text/plain": "        Name    Location  Age\n1       Anna    Chiclayo   30\n2      Lunna    Arequipa   18\n3  Christian  Lambayeque   25",
      "text/html": "<div>\n<style scoped>\n    .dataframe tbody tr th:only-of-type {\n        vertical-align: middle;\n    }\n\n    .dataframe tbody tr th {\n        vertical-align: top;\n    }\n\n    .dataframe thead th {\n        text-align: right;\n    }\n</style>\n<table border=\"1\" class=\"dataframe\">\n  <thead>\n    <tr style=\"text-align: right;\">\n      <th></th>\n      <th>Name</th>\n      <th>Location</th>\n      <th>Age</th>\n    </tr>\n  </thead>\n  <tbody>\n    <tr>\n      <th>1</th>\n      <td>Anna</td>\n      <td>Chiclayo</td>\n      <td>30</td>\n    </tr>\n    <tr>\n      <th>2</th>\n      <td>Lunna</td>\n      <td>Arequipa</td>\n      <td>18</td>\n    </tr>\n    <tr>\n      <th>3</th>\n      <td>Christian</td>\n      <td>Lambayeque</td>\n      <td>25</td>\n    </tr>\n  </tbody>\n</table>\n</div>"
     },
     "execution_count": 41,
     "metadata": {},
     "output_type": "execute_result"
    }
   ]
  },
  {
   "cell_type": "code",
   "source": [
    "# df[fila, columnas]\n",
    "df.loc[1:2,['Name', 'Age']]"
   ],
   "metadata": {
    "colab": {
     "base_uri": "https://localhost:8080/",
     "height": 112
    },
    "id": "HeB_Lb7-bD5t",
    "outputId": "cd41391f-a28d-4b5e-829b-1d831979d167"
   },
   "execution_count": 42,
   "outputs": [
    {
     "data": {
      "text/plain": "    Name  Age\n1   Anna   30\n2  Lunna   18",
      "text/html": "<div>\n<style scoped>\n    .dataframe tbody tr th:only-of-type {\n        vertical-align: middle;\n    }\n\n    .dataframe tbody tr th {\n        vertical-align: top;\n    }\n\n    .dataframe thead th {\n        text-align: right;\n    }\n</style>\n<table border=\"1\" class=\"dataframe\">\n  <thead>\n    <tr style=\"text-align: right;\">\n      <th></th>\n      <th>Name</th>\n      <th>Age</th>\n    </tr>\n  </thead>\n  <tbody>\n    <tr>\n      <th>1</th>\n      <td>Anna</td>\n      <td>30</td>\n    </tr>\n    <tr>\n      <th>2</th>\n      <td>Lunna</td>\n      <td>18</td>\n    </tr>\n  </tbody>\n</table>\n</div>"
     },
     "execution_count": 42,
     "metadata": {},
     "output_type": "execute_result"
    }
   ]
  },
  {
   "cell_type": "code",
   "source": [
    "# Filtrar de acuerdo al nombre de una columna\n",
    "# df[df.Age > 18 ]\n",
    "df[df['Age'] > 18] "
   ],
   "metadata": {
    "colab": {
     "base_uri": "https://localhost:8080/",
     "height": 143
    },
    "id": "f7HoID4SZDwj",
    "outputId": "f006f946-3aeb-445a-f485-536fac60bc82"
   },
   "execution_count": 43,
   "outputs": [
    {
     "data": {
      "text/plain": "        Name    Location  Age\n0       John        Lima   20\n1       Anna    Chiclayo   30\n3  Christian  Lambayeque   25",
      "text/html": "<div>\n<style scoped>\n    .dataframe tbody tr th:only-of-type {\n        vertical-align: middle;\n    }\n\n    .dataframe tbody tr th {\n        vertical-align: top;\n    }\n\n    .dataframe thead th {\n        text-align: right;\n    }\n</style>\n<table border=\"1\" class=\"dataframe\">\n  <thead>\n    <tr style=\"text-align: right;\">\n      <th></th>\n      <th>Name</th>\n      <th>Location</th>\n      <th>Age</th>\n    </tr>\n  </thead>\n  <tbody>\n    <tr>\n      <th>0</th>\n      <td>John</td>\n      <td>Lima</td>\n      <td>20</td>\n    </tr>\n    <tr>\n      <th>1</th>\n      <td>Anna</td>\n      <td>Chiclayo</td>\n      <td>30</td>\n    </tr>\n    <tr>\n      <th>3</th>\n      <td>Christian</td>\n      <td>Lambayeque</td>\n      <td>25</td>\n    </tr>\n  </tbody>\n</table>\n</div>"
     },
     "execution_count": 43,
     "metadata": {},
     "output_type": "execute_result"
    }
   ]
  },
  {
   "cell_type": "code",
   "source": [
    "# Filtracion con dicional: And(&), OR(|)\n",
    "df[(df['Age'] > 18) & (df['Location']=='Chiclayo')] "
   ],
   "metadata": {
    "colab": {
     "base_uri": "https://localhost:8080/",
     "height": 81
    },
    "id": "3nqWQJ-qbxBb",
    "outputId": "1b72eea7-3f84-4c65-843a-426a6043ef4a"
   },
   "execution_count": 44,
   "outputs": [
    {
     "data": {
      "text/plain": "   Name  Location  Age\n1  Anna  Chiclayo   30",
      "text/html": "<div>\n<style scoped>\n    .dataframe tbody tr th:only-of-type {\n        vertical-align: middle;\n    }\n\n    .dataframe tbody tr th {\n        vertical-align: top;\n    }\n\n    .dataframe thead th {\n        text-align: right;\n    }\n</style>\n<table border=\"1\" class=\"dataframe\">\n  <thead>\n    <tr style=\"text-align: right;\">\n      <th></th>\n      <th>Name</th>\n      <th>Location</th>\n      <th>Age</th>\n    </tr>\n  </thead>\n  <tbody>\n    <tr>\n      <th>1</th>\n      <td>Anna</td>\n      <td>Chiclayo</td>\n      <td>30</td>\n    </tr>\n  </tbody>\n</table>\n</div>"
     },
     "execution_count": 44,
     "metadata": {},
     "output_type": "execute_result"
    }
   ]
  },
  {
   "cell_type": "code",
   "source": [
    "# Operaciones: suma, promedio, etc\n",
    "df['Age'].sum()"
   ],
   "metadata": {
    "colab": {
     "base_uri": "https://localhost:8080/"
    },
    "id": "-o1e0D7CcOvx",
    "outputId": "88b588fd-d4ab-4c5a-a8a1-5b5ea8d79afb"
   },
   "execution_count": 45,
   "outputs": [
    {
     "data": {
      "text/plain": "93"
     },
     "execution_count": 45,
     "metadata": {},
     "output_type": "execute_result"
    }
   ]
  },
  {
   "cell_type": "code",
   "source": [
    "# Operaciones basicas: sum, restar, dividir, multiplicar\n",
    "df['new_age'] = df['Age']/2\n",
    "df"
   ],
   "metadata": {
    "colab": {
     "base_uri": "https://localhost:8080/",
     "height": 175
    },
    "id": "OowHtEs7ctJU",
    "outputId": "69840b12-9051-4c67-9a80-d76d91e474eb"
   },
   "execution_count": 46,
   "outputs": [
    {
     "data": {
      "text/plain": "        Name    Location  Age  new_age\n0       John        Lima   20     10.0\n1       Anna    Chiclayo   30     15.0\n2      Lunna    Arequipa   18      9.0\n3  Christian  Lambayeque   25     12.5",
      "text/html": "<div>\n<style scoped>\n    .dataframe tbody tr th:only-of-type {\n        vertical-align: middle;\n    }\n\n    .dataframe tbody tr th {\n        vertical-align: top;\n    }\n\n    .dataframe thead th {\n        text-align: right;\n    }\n</style>\n<table border=\"1\" class=\"dataframe\">\n  <thead>\n    <tr style=\"text-align: right;\">\n      <th></th>\n      <th>Name</th>\n      <th>Location</th>\n      <th>Age</th>\n      <th>new_age</th>\n    </tr>\n  </thead>\n  <tbody>\n    <tr>\n      <th>0</th>\n      <td>John</td>\n      <td>Lima</td>\n      <td>20</td>\n      <td>10.0</td>\n    </tr>\n    <tr>\n      <th>1</th>\n      <td>Anna</td>\n      <td>Chiclayo</td>\n      <td>30</td>\n      <td>15.0</td>\n    </tr>\n    <tr>\n      <th>2</th>\n      <td>Lunna</td>\n      <td>Arequipa</td>\n      <td>18</td>\n      <td>9.0</td>\n    </tr>\n    <tr>\n      <th>3</th>\n      <td>Christian</td>\n      <td>Lambayeque</td>\n      <td>25</td>\n      <td>12.5</td>\n    </tr>\n  </tbody>\n</table>\n</div>"
     },
     "execution_count": 46,
     "metadata": {},
     "output_type": "execute_result"
    }
   ]
  },
  {
   "cell_type": "code",
   "source": [
    "dict_data = {\n",
    "    'Name': [\"John\", \"Anna\", \"Lunna\", \"Christian\", \"Leonel\"], \n",
    "    'Location': [\"L-ima\", \"Chi-clayo\", \"Arequipa\", \"Lambayeque\", \"Lambayeque\"],\n",
    "    \"Age\": [20, 18, 18, 25, 25],\n",
    "    \"Sex\": [\"M\", \"F\", \"F\", \"M\", \"M\"],\n",
    "             \n",
    "             }\n",
    "df = pd.DataFrame(data=dict_data)\n",
    "df"
   ],
   "metadata": {
    "colab": {
     "base_uri": "https://localhost:8080/",
     "height": 206
    },
    "id": "jnH6O7vZdUbk",
    "outputId": "4656deee-7db9-490c-cc08-a78dc1ed5c46"
   },
   "execution_count": 47,
   "outputs": [
    {
     "data": {
      "text/plain": "        Name    Location  Age Sex\n0       John       L-ima   20   M\n1       Anna   Chi-clayo   18   F\n2      Lunna    Arequipa   18   F\n3  Christian  Lambayeque   25   M\n4     Leonel  Lambayeque   25   M",
      "text/html": "<div>\n<style scoped>\n    .dataframe tbody tr th:only-of-type {\n        vertical-align: middle;\n    }\n\n    .dataframe tbody tr th {\n        vertical-align: top;\n    }\n\n    .dataframe thead th {\n        text-align: right;\n    }\n</style>\n<table border=\"1\" class=\"dataframe\">\n  <thead>\n    <tr style=\"text-align: right;\">\n      <th></th>\n      <th>Name</th>\n      <th>Location</th>\n      <th>Age</th>\n      <th>Sex</th>\n    </tr>\n  </thead>\n  <tbody>\n    <tr>\n      <th>0</th>\n      <td>John</td>\n      <td>L-ima</td>\n      <td>20</td>\n      <td>M</td>\n    </tr>\n    <tr>\n      <th>1</th>\n      <td>Anna</td>\n      <td>Chi-clayo</td>\n      <td>18</td>\n      <td>F</td>\n    </tr>\n    <tr>\n      <th>2</th>\n      <td>Lunna</td>\n      <td>Arequipa</td>\n      <td>18</td>\n      <td>F</td>\n    </tr>\n    <tr>\n      <th>3</th>\n      <td>Christian</td>\n      <td>Lambayeque</td>\n      <td>25</td>\n      <td>M</td>\n    </tr>\n    <tr>\n      <th>4</th>\n      <td>Leonel</td>\n      <td>Lambayeque</td>\n      <td>25</td>\n      <td>M</td>\n    </tr>\n  </tbody>\n</table>\n</div>"
     },
     "execution_count": 47,
     "metadata": {},
     "output_type": "execute_result"
    }
   ]
  },
  {
   "cell_type": "code",
   "source": [
    "# Limpiar valores\n",
    "df['Location'] = df['Location'].str.replace('-', '')\n",
    "df\n"
   ],
   "metadata": {
    "colab": {
     "base_uri": "https://localhost:8080/",
     "height": 206
    },
    "id": "0HQVCb_ndnvJ",
    "outputId": "1786c1e0-6c30-4052-d06b-224591762601"
   },
   "execution_count": 48,
   "outputs": [
    {
     "data": {
      "text/plain": "        Name    Location  Age Sex\n0       John        Lima   20   M\n1       Anna    Chiclayo   18   F\n2      Lunna    Arequipa   18   F\n3  Christian  Lambayeque   25   M\n4     Leonel  Lambayeque   25   M",
      "text/html": "<div>\n<style scoped>\n    .dataframe tbody tr th:only-of-type {\n        vertical-align: middle;\n    }\n\n    .dataframe tbody tr th {\n        vertical-align: top;\n    }\n\n    .dataframe thead th {\n        text-align: right;\n    }\n</style>\n<table border=\"1\" class=\"dataframe\">\n  <thead>\n    <tr style=\"text-align: right;\">\n      <th></th>\n      <th>Name</th>\n      <th>Location</th>\n      <th>Age</th>\n      <th>Sex</th>\n    </tr>\n  </thead>\n  <tbody>\n    <tr>\n      <th>0</th>\n      <td>John</td>\n      <td>Lima</td>\n      <td>20</td>\n      <td>M</td>\n    </tr>\n    <tr>\n      <th>1</th>\n      <td>Anna</td>\n      <td>Chiclayo</td>\n      <td>18</td>\n      <td>F</td>\n    </tr>\n    <tr>\n      <th>2</th>\n      <td>Lunna</td>\n      <td>Arequipa</td>\n      <td>18</td>\n      <td>F</td>\n    </tr>\n    <tr>\n      <th>3</th>\n      <td>Christian</td>\n      <td>Lambayeque</td>\n      <td>25</td>\n      <td>M</td>\n    </tr>\n    <tr>\n      <th>4</th>\n      <td>Leonel</td>\n      <td>Lambayeque</td>\n      <td>25</td>\n      <td>M</td>\n    </tr>\n  </tbody>\n</table>\n</div>"
     },
     "execution_count": 48,
     "metadata": {},
     "output_type": "execute_result"
    }
   ]
  },
  {
   "cell_type": "code",
   "source": [
    "# Graficar dataframe \n",
    "# df = df.reindex(['Location', 'Age'], axis=1)\n",
    "df.plot(kind='hist', x='Location', y='Age')\n",
    "\n",
    "df"
   ],
   "metadata": {
    "colab": {
     "base_uri": "https://localhost:8080/",
     "height": 454
    },
    "id": "bQkc0JxRh_6m",
    "outputId": "8c2ce74e-07e8-45e3-a0c5-5546d537e556"
   },
   "execution_count": 49,
   "outputs": [
    {
     "data": {
      "text/plain": "        Name    Location  Age Sex\n0       John        Lima   20   M\n1       Anna    Chiclayo   18   F\n2      Lunna    Arequipa   18   F\n3  Christian  Lambayeque   25   M\n4     Leonel  Lambayeque   25   M",
      "text/html": "<div>\n<style scoped>\n    .dataframe tbody tr th:only-of-type {\n        vertical-align: middle;\n    }\n\n    .dataframe tbody tr th {\n        vertical-align: top;\n    }\n\n    .dataframe thead th {\n        text-align: right;\n    }\n</style>\n<table border=\"1\" class=\"dataframe\">\n  <thead>\n    <tr style=\"text-align: right;\">\n      <th></th>\n      <th>Name</th>\n      <th>Location</th>\n      <th>Age</th>\n      <th>Sex</th>\n    </tr>\n  </thead>\n  <tbody>\n    <tr>\n      <th>0</th>\n      <td>John</td>\n      <td>Lima</td>\n      <td>20</td>\n      <td>M</td>\n    </tr>\n    <tr>\n      <th>1</th>\n      <td>Anna</td>\n      <td>Chiclayo</td>\n      <td>18</td>\n      <td>F</td>\n    </tr>\n    <tr>\n      <th>2</th>\n      <td>Lunna</td>\n      <td>Arequipa</td>\n      <td>18</td>\n      <td>F</td>\n    </tr>\n    <tr>\n      <th>3</th>\n      <td>Christian</td>\n      <td>Lambayeque</td>\n      <td>25</td>\n      <td>M</td>\n    </tr>\n    <tr>\n      <th>4</th>\n      <td>Leonel</td>\n      <td>Lambayeque</td>\n      <td>25</td>\n      <td>M</td>\n    </tr>\n  </tbody>\n</table>\n</div>"
     },
     "execution_count": 49,
     "metadata": {},
     "output_type": "execute_result"
    },
    {
     "data": {
      "text/plain": "<Figure size 432x288 with 1 Axes>",
      "image/png": "[encoded data removed]"
     },
     "metadata": {
      "needs_background": "light"
     },
     "output_type": "display_data"
    }
   ]
  },
  {
   "cell_type": "code",
   "source": [
    "# Leer datos en diferentes formatos de archivos\n",
    "df\n",
    "df.to_csv(\"out/save_student.csv\", index=False, encoding='utf-8')\n"
   ],
   "metadata": {
    "id": "KmIm7StoqjKP"
   },
   "execution_count": 50,
   "outputs": []
  },
  {
   "cell_type": "code",
   "source": [
    "df_csv = pd.read_csv(\"out/student.csv\")\n",
    "df_csv"
   ],
   "metadata": {
    "id": "fR-89M_KsVyB",
    "colab": {
     "base_uri": "https://localhost:8080/",
     "height": 206
    },
    "outputId": "a27a9375-f752-4932-9726-59947634dd81"
   },
   "execution_count": 51,
   "outputs": [
    {
     "data": {
      "text/plain": "        Name    Location  Age Sex        Level\n0       John        Lima   20   M       Junior\n1       Anna    Chiclayo   18   F  Semi-senior\n2      Lunna    Arequipa   18   F       Senior\n3  Christian  Lambayeque   25   M  Semi-Junior\n4     Leonel  Lambayeque   25   M      Student",
      "text/html": "<div>\n<style scoped>\n    .dataframe tbody tr th:only-of-type {\n        vertical-align: middle;\n    }\n\n    .dataframe tbody tr th {\n        vertical-align: top;\n    }\n\n    .dataframe thead th {\n        text-align: right;\n    }\n</style>\n<table border=\"1\" class=\"dataframe\">\n  <thead>\n    <tr style=\"text-align: right;\">\n      <th></th>\n      <th>Name</th>\n      <th>Location</th>\n      <th>Age</th>\n      <th>Sex</th>\n      <th>Level</th>\n    </tr>\n  </thead>\n  <tbody>\n    <tr>\n      <th>0</th>\n      <td>John</td>\n      <td>Lima</td>\n      <td>20</td>\n      <td>M</td>\n      <td>Junior</td>\n    </tr>\n    <tr>\n      <th>1</th>\n      <td>Anna</td>\n      <td>Chiclayo</td>\n      <td>18</td>\n      <td>F</td>\n      <td>Semi-senior</td>\n    </tr>\n    <tr>\n      <th>2</th>\n      <td>Lunna</td>\n      <td>Arequipa</td>\n      <td>18</td>\n      <td>F</td>\n      <td>Senior</td>\n    </tr>\n    <tr>\n      <th>3</th>\n      <td>Christian</td>\n      <td>Lambayeque</td>\n      <td>25</td>\n      <td>M</td>\n      <td>Semi-Junior</td>\n    </tr>\n    <tr>\n      <th>4</th>\n      <td>Leonel</td>\n      <td>Lambayeque</td>\n      <td>25</td>\n      <td>M</td>\n      <td>Student</td>\n    </tr>\n  </tbody>\n</table>\n</div>"
     },
     "execution_count": 51,
     "metadata": {},
     "output_type": "execute_result"
    }
   ]
  },
  {
   "cell_type": "code",
   "source": [
    "# Agregar una columna\n",
    "df_csv['university'] = 'UNPRG'\n",
    "df_csv"
   ],
   "metadata": {
    "id": "TqZmeW_AEMc7",
    "colab": {
     "base_uri": "https://localhost:8080/",
     "height": 206
    },
    "outputId": "065f2762-ad8d-401a-b805-85d871459394"
   },
   "execution_count": 52,
   "outputs": [
    {
     "data": {
      "text/plain": "        Name    Location  Age Sex        Level university\n0       John        Lima   20   M       Junior      UNPRG\n1       Anna    Chiclayo   18   F  Semi-senior      UNPRG\n2      Lunna    Arequipa   18   F       Senior      UNPRG\n3  Christian  Lambayeque   25   M  Semi-Junior      UNPRG\n4     Leonel  Lambayeque   25   M      Student      UNPRG",
      "text/html": "<div>\n<style scoped>\n    .dataframe tbody tr th:only-of-type {\n        vertical-align: middle;\n    }\n\n    .dataframe tbody tr th {\n        vertical-align: top;\n    }\n\n    .dataframe thead th {\n        text-align: right;\n    }\n</style>\n<table border=\"1\" class=\"dataframe\">\n  <thead>\n    <tr style=\"text-align: right;\">\n      <th></th>\n      <th>Name</th>\n      <th>Location</th>\n      <th>Age</th>\n      <th>Sex</th>\n      <th>Level</th>\n      <th>university</th>\n    </tr>\n  </thead>\n  <tbody>\n    <tr>\n      <th>0</th>\n      <td>John</td>\n      <td>Lima</td>\n      <td>20</td>\n      <td>M</td>\n      <td>Junior</td>\n      <td>UNPRG</td>\n    </tr>\n    <tr>\n      <th>1</th>\n      <td>Anna</td>\n      <td>Chiclayo</td>\n      <td>18</td>\n      <td>F</td>\n      <td>Semi-senior</td>\n      <td>UNPRG</td>\n    </tr>\n    <tr>\n      <th>2</th>\n      <td>Lunna</td>\n      <td>Arequipa</td>\n      <td>18</td>\n      <td>F</td>\n      <td>Senior</td>\n      <td>UNPRG</td>\n    </tr>\n    <tr>\n      <th>3</th>\n      <td>Christian</td>\n      <td>Lambayeque</td>\n      <td>25</td>\n      <td>M</td>\n      <td>Semi-Junior</td>\n      <td>UNPRG</td>\n    </tr>\n    <tr>\n      <th>4</th>\n      <td>Leonel</td>\n      <td>Lambayeque</td>\n      <td>25</td>\n      <td>M</td>\n      <td>Student</td>\n      <td>UNPRG</td>\n    </tr>\n  </tbody>\n</table>\n</div>"
     },
     "execution_count": 52,
     "metadata": {},
     "output_type": "execute_result"
    }
   ]
  },
  {
   "cell_type": "code",
   "source": [
    "# apply(function, column): axis=1: column, axis=0: row(defect)\n",
    "# applymap: Dataframe\n",
    "# map: series\n",
    "# apply: Dataframe and series\n",
    "\n",
    "def student_search(level):\n",
    "  if 'senior' in level.strip().lower():\n",
    "      return 'Apto'\n",
    "  return 'No Apto'\n",
    "df_csv.columns\n",
    "df_csv['search'] = df_csv['Level'].apply(student_search)\n",
    "df_csv"
   ],
   "metadata": {
    "id": "A5nFqbVEwoqs",
    "colab": {
     "base_uri": "https://localhost:8080/",
     "height": 206
    },
    "outputId": "1e15b328-4d94-478f-e8f5-818acb77a459"
   },
   "execution_count": 53,
   "outputs": [
    {
     "data": {
      "text/plain": "        Name    Location  Age Sex        Level university   search\n0       John        Lima   20   M       Junior      UNPRG  No Apto\n1       Anna    Chiclayo   18   F  Semi-senior      UNPRG     Apto\n2      Lunna    Arequipa   18   F       Senior      UNPRG     Apto\n3  Christian  Lambayeque   25   M  Semi-Junior      UNPRG  No Apto\n4     Leonel  Lambayeque   25   M      Student      UNPRG  No Apto",
      "text/html": "<div>\n<style scoped>\n    .dataframe tbody tr th:only-of-type {\n        vertical-align: middle;\n    }\n\n    .dataframe tbody tr th {\n        vertical-align: top;\n    }\n\n    .dataframe thead th {\n        text-align: right;\n    }\n</style>\n<table border=\"1\" class=\"dataframe\">\n  <thead>\n    <tr style=\"text-align: right;\">\n      <th></th>\n      <th>Name</th>\n      <th>Location</th>\n      <th>Age</th>\n      <th>Sex</th>\n      <th>Level</th>\n      <th>university</th>\n      <th>search</th>\n    </tr>\n  </thead>\n  <tbody>\n    <tr>\n      <th>0</th>\n      <td>John</td>\n      <td>Lima</td>\n      <td>20</td>\n      <td>M</td>\n      <td>Junior</td>\n      <td>UNPRG</td>\n      <td>No Apto</td>\n    </tr>\n    <tr>\n      <th>1</th>\n      <td>Anna</td>\n      <td>Chiclayo</td>\n      <td>18</td>\n      <td>F</td>\n      <td>Semi-senior</td>\n      <td>UNPRG</td>\n      <td>Apto</td>\n    </tr>\n    <tr>\n      <th>2</th>\n      <td>Lunna</td>\n      <td>Arequipa</td>\n      <td>18</td>\n      <td>F</td>\n      <td>Senior</td>\n      <td>UNPRG</td>\n      <td>Apto</td>\n    </tr>\n    <tr>\n      <th>3</th>\n      <td>Christian</td>\n      <td>Lambayeque</td>\n      <td>25</td>\n      <td>M</td>\n      <td>Semi-Junior</td>\n      <td>UNPRG</td>\n      <td>No Apto</td>\n    </tr>\n    <tr>\n      <th>4</th>\n      <td>Leonel</td>\n      <td>Lambayeque</td>\n      <td>25</td>\n      <td>M</td>\n      <td>Student</td>\n      <td>UNPRG</td>\n      <td>No Apto</td>\n    </tr>\n  </tbody>\n</table>\n</div>"
     },
     "execution_count": 53,
     "metadata": {},
     "output_type": "execute_result"
    }
   ]
  }
 ]
}